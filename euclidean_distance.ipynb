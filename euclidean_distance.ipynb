{
  "nbformat": 4,
  "nbformat_minor": 0,
  "metadata": {
    "kernelspec": {
      "display_name": "Python 3",
      "language": "python",
      "name": "python3"
    },
    "language_info": {
      "codemirror_mode": {
        "name": "ipython",
        "version": 3
      },
      "file_extension": ".py",
      "mimetype": "text/x-python",
      "name": "python",
      "nbconvert_exporter": "python",
      "pygments_lexer": "ipython3",
      "version": "3.7.7"
    },
    "colab": {
      "name": "euclidean_distance.ipynb",
      "provenance": []
    }
  },
  "cells": [
    {
      "cell_type": "markdown",
      "metadata": {
        "id": "-vl0gM_Ect6B",
        "colab_type": "text"
      },
      "source": [
        "Euclidean Distance"
      ]
    },
    {
      "cell_type": "code",
      "metadata": {
        "id": "OUwhBj6mct6D",
        "colab_type": "code",
        "colab": {}
      },
      "source": [
        "import numpy as np\n",
        "import matplotlib.pyplot as plt\n",
        "import pickle\n",
        "import os\n",
        "\n",
        "from PIL import Image\n",
        "import tensorflow as tf\n",
        "from tensorflow import keras\n",
        "from keras.datasets import cifar10"
      ],
      "execution_count": null,
      "outputs": []
    },
    {
      "cell_type": "code",
      "metadata": {
        "pycharm": {
          "name": "#%%\n"
        },
        "id": "wh23i98-ct6I",
        "colab_type": "code",
        "colab": {}
      },
      "source": [
        "def load_batch(file_path, label_key='labels'):\n",
        "    \"\"\"Load a batch of CIFAR data\"\"\"\n",
        "    with open(file_path, 'rb') as f:\n",
        "        d = pickle.load(f, encoding='bytes')\n",
        "        # decode utf8\n",
        "        d_decoded = {}\n",
        "        for k, v in d.items():\n",
        "            d_decoded[k.decode('utf8')] = v\n",
        "        d = d_decoded\n",
        "    data = d['data']\n",
        "    labels = d[label_key]\n",
        "\n",
        "    data = data.reshape(data.shape[0], 3, 32, 32).transpose(0, 2, 3, 1)\n",
        "    return data, labels\n",
        "\n",
        "\n",
        "def load_data(path):\n",
        "    \"\"\"Load CIFAR10 dataset\"\"\"\n",
        "    num_train_samples = 50000\n",
        "\n",
        "    x_train_local = np.empty((num_train_samples, 32, 32, 3), dtype='uint8')\n",
        "    y_train_local = np.empty((num_train_samples,), dtype='uint8')\n",
        "\n",
        "    for i in range(1, 6):\n",
        "        batch_file_path = os.path.join(path, 'data_batch_' + str(i))\n",
        "        (x_train_local[(i - 1) * 10000: i * 10000, :, :, :],\n",
        "         y_train_local[(i - 1) * 10000: i * 10000]) = load_batch(batch_file_path)\n",
        "        \n",
        "    fpath = os.path.join(path, 'test_batch')\n",
        "    x_test_local, y_test_local = load_batch(fpath)\n",
        "\n",
        "    y_train_local = np.reshape(y_train_local, (len(y_train_local), 1))\n",
        "    y_test_local = np.reshape(y_test_local, (len(y_test_local), 1))\n",
        "    \n",
        "    # x_train_local = x_train_local.transpose(0, 2, 3, 1)\n",
        "    # x_test_local = x_test_local.transpose(0, 2, 3, 1)\n",
        "\n",
        "    return (x_train_local, y_train_local), (x_test_local, y_test_local)"
      ],
      "execution_count": null,
      "outputs": []
    },
    {
      "cell_type": "code",
      "metadata": {
        "pycharm": {
          "name": "#%%\n"
        },
        "id": "D4v_ng8Act6M",
        "colab_type": "code",
        "colab": {}
      },
      "source": [
        "# (x_train, y_train), (x_test, y_test) = cifar10.load_data()\n",
        "path = 'cifar-10-batches-py'\n",
        "(x_train, y_train), (x_test, y_test) = load_data(path)\n",
        "\n",
        "print(\"Train data (x_train): \", x_train.shape)\n",
        "print(\"Train labels (y_train): \", y_train.shape)\n",
        "print(\"Test data (x_test): \", x_test.shape)\n",
        "print(\"Test labels (y_test): \", y_test.shape)"
      ],
      "execution_count": null,
      "outputs": []
    },
    {
      "cell_type": "code",
      "metadata": {
        "pycharm": {
          "name": "#%%\n"
        },
        "scrolled": false,
        "id": "3PATNzxtct6R",
        "colab_type": "code",
        "colab": {}
      },
      "source": [
        "label = [\"\" for _ in range(10)]\n",
        "label[0]=\"airplane\"\n",
        "label[1]=\"automobile\"\n",
        "label[2]=\"bird\"\n",
        "label[3]=\"cat\"\n",
        "label[4]=\"deer\"\n",
        "label[5]=\"dog\"\n",
        "label[6]=\"frog\"\n",
        "label[7]=\"horse\"\n",
        "label[8]=\"ship\"\n",
        "label[9]=\"truck\""
      ],
      "execution_count": null,
      "outputs": []
    },
    {
      "cell_type": "code",
      "metadata": {
        "pycharm": {
          "name": "#%%\n"
        },
        "id": "XS2VFblGct6V",
        "colab_type": "code",
        "colab": {}
      },
      "source": [
        "num_plot = 5\n",
        "figure, axes = plt.subplots(1, num_plot)\n",
        "for i, ax in enumerate(axes.flat):\n",
        "    img_id = np.random.randint(0, x_train.shape[0])\n",
        "    ax.imshow(x_train[img_id])\n",
        "    ax.set_title(label[y_train[img_id][0]])\n",
        "\n",
        "\n",
        "figure.tight_layout()\n",
        "figure.set_facecolor('w')\n",
        "plt.show()"
      ],
      "execution_count": null,
      "outputs": []
    },
    {
      "cell_type": "code",
      "metadata": {
        "pycharm": {
          "name": "#%%\n"
        },
        "id": "j8GcwSQMct6Y",
        "colab_type": "code",
        "colab": {}
      },
      "source": [
        "def filter_class(class_name):\n",
        "    \"\"\"Utility function for filtering data of specified class\"\"\"\n",
        "    idx = (y_train == label.index(class_name)).reshape(x_train.shape[0])\n",
        "    x_train_filter = x_train[idx]\n",
        "    y_train_filter = y_train[idx]\n",
        "    \n",
        "    idx = (y_test == label.index(class_name)).reshape(x_test.shape[0])\n",
        "    x_test_filter = x_test[idx]\n",
        "    y_test_filter = y_test[idx]\n",
        "    \n",
        "    return (x_train_filter, y_train_filter), (x_test_filter, y_test_filter)"
      ],
      "execution_count": null,
      "outputs": []
    },
    {
      "cell_type": "code",
      "metadata": {
        "id": "3zrHqzZSct6c",
        "colab_type": "code",
        "colab": {}
      },
      "source": [
        "def rgb2gray(rgb):\n",
        "    return np.dot(rgb[...,:3], [0.2989, 0.5870, 0.1140])"
      ],
      "execution_count": null,
      "outputs": []
    },
    {
      "cell_type": "code",
      "metadata": {
        "pycharm": {
          "name": "#%%\n"
        },
        "id": "Gmqtr3X5ct6f",
        "colab_type": "code",
        "colab": {}
      },
      "source": [
        "def euclidean_distance(image1, image2):\n",
        "    gray1 = rgb2gray(image1)\n",
        "    gray2 = rgb2gray(image2)\n",
        "    \n",
        "    distance = gray1 - gray2\n",
        "    distance_squared = distance ** 2\n",
        "    \n",
        "    return np.sqrt(np.sum(distance_squared))"
      ],
      "execution_count": null,
      "outputs": []
    },
    {
      "cell_type": "code",
      "metadata": {
        "pycharm": {
          "name": "#%%\n"
        },
        "id": "fNiQobVhct6k",
        "colab_type": "code",
        "colab": {}
      },
      "source": [
        "num_samples = x_test.shape[0]\n",
        "take_one_img = np.random.randint(0, num_samples)\n",
        "\n",
        "distances = [euclidean_distance(x_test[take_one_img], x_test[i]) for i in range(num_samples)]\n",
        "min_distance_ids = np.argsort(distances)\n",
        "\n",
        "num_plot = 6\n",
        "figure, axes = plt.subplots(1, num_plot)\n",
        "\n",
        "for i, ax in enumerate(axes.flat):\n",
        "    img_id = min_distance_ids[i]\n",
        "    ax.imshow(x_test[img_id])\n",
        "    ax.set_title(label[y_test[img_id][0]] + '\\n' +\n",
        "                 str(distances[img_id]))\n",
        "\n",
        "\n",
        "figure.tight_layout()\n",
        "figure.set_facecolor('w')\n",
        "figure.subplots_adjust(top=1.0, right=2.0)\n",
        "plt.show()\n"
      ],
      "execution_count": null,
      "outputs": []
    }
  ]
}